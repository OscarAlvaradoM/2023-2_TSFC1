{
 "cells": [
  {
   "cell_type": "markdown",
   "metadata": {},
   "source": [
    "# Tarea 1: Números duales"
   ]
  },
  {
   "cell_type": "markdown",
   "metadata": {},
   "source": [
    "> Fecha de aceptación:"
   ]
  },
  {
   "cell_type": "markdown",
   "metadata": {},
   "source": [
    "Antes de describir los *números duales* recordaremos primero algunas propiedades de los\n",
    "números complejos.\n",
    "Los números complejos los podemos entender como una *pareja ordenada* $z=(x, y)$ que\n",
    "algebraicamente escribimos $z = x +i y$, donde $x,y\\in\\mathbb R$, con la propiedad de\n",
    "que el *número* $i$ satisface $i^2 = -1$. Decimos que $x$ es la *parte real* de $z$,\n",
    "y que $y$ es su *parte imaginaria*.\n",
    "Con estas definiciones, podemos extender las operaciones aritméticas al igual que las\n",
    "funciones elementales de manera sencilla, simplemente explotando el álgebra y además\n",
    "$i^2=-1$."
   ]
  },
  {
   "cell_type": "markdown",
   "metadata": {},
   "source": [
    "De manera similar, uno puede definir al *par ordenado*\n",
    "$\\overleftrightarrow{x} = (x, x^\\prime) = x + \\epsilon x^\\prime$, con\n",
    "$x, x^\\prime \\in \\mathbb R$, y donde el *número* $\\epsilon$ lo definimos con la propiedad\n",
    "$\\epsilon^2=0$. Es fácil pues convencerse que estas estructuras, que llamaremos\n",
    "*números duales*, cumplen:\n",
    "\n",
    "\\begin{eqnarray}\n",
    "(x + \\epsilon x^\\prime) \\pm (y + \\epsilon y^\\prime) & = & (x\\pm y) + \\epsilon (x^\\prime\\pm y^\\prime),\\\\\n",
    "(x + \\epsilon x^\\prime) \\cdot (y + \\epsilon y^\\prime) & = & (x\\cdot y) + \\epsilon (xy^\\prime+y x^\\prime).\n",
    "\\end{eqnarray}\n",
    "\n",
    "Llamaremos a $x$ la *parte principal* y a $x^\\prime$ la *parte derivada* de $\\overleftrightarrow{x}$."
   ]
  },
  {
   "cell_type": "markdown",
   "metadata": {},
   "source": [
    "## Ejercicio 1\n",
    "\n",
    "- A partir de $\\overleftrightarrow{z} \\cdot \\overleftrightarrow{y} = \\overleftrightarrow{x}$,\n",
    "y usando la definición del producto entre duales, obtener la expresión para\n",
    "$\\overleftrightarrow{z} = \\overleftrightarrow{x} / \\overleftrightarrow{y}$.\n",
    "Es decir, obtener\n",
    "qué son $z$ y $z^\\prime$ en términos de las componentes de $\\overleftrightarrow{x}$ y\n",
    "$\\overleftrightarrow{y}$."
   ]
  },
  {
   "cell_type": "markdown",
   "metadata": {},
   "source": [
    "<div class=\"alert alert-warning\">\n",
    "Al desarrollar la ecuación $\\overleftrightarrow{z} \\cdot \\overleftrightarrow{y} = \\overleftrightarrow{x}$ tenemos los siguiente:\n",
    "$$\n",
    "\\overleftrightarrow{z} \\cdot \\overleftrightarrow{y} = zy + \\epsilon (zy^\\prime + yz^\\prime ) = x + \\epsilon x^\\prime\n",
    "$$\n",
    "De donde podemos deducir que \n",
    "\\begin{eqnarray}\n",
    "zy & = & x \\\\\n",
    "zy^\\prime + yz^\\prime & = & x^\\prime\n",
    "\\end{eqnarray}\n",
    "\n",
    "Y así, al sustituir y despejar $z$ y $z^\\prime$ tenemos que\n",
    "\n",
    "\\begin{eqnarray}\n",
    "z & = & \\dfrac{x}{y}\\\\\n",
    "z^\\prime & = & \\dfrac{x^\\prime y - xy^\\prime}{y^{2}}\n",
    "\\end{eqnarray}\n",
    "</div>"
   ]
  },
  {
   "cell_type": "markdown",
   "metadata": {},
   "source": [
    "- De la expresión obtenida (y de las fórmulas anteriores), ¿qué podemos decir\n",
    "(concluir o interpretar) sobre qué representa de $z^\\prime$?"
   ]
  },
  {
   "cell_type": "markdown",
   "metadata": {},
   "source": [
    "<div class=\"alert alert-warning\">\n",
    "La forma de $z^\\prime$ recuerda mucho a la derivada de una división. Y analizando los demás resultados, parece que el nombre de <i>parte derivada de $\\overleftrightarrow{z}$</i> resulta justamente de esta propiedad.\n",
    "</div>"
   ]
  },
  {
   "cell_type": "markdown",
   "metadata": {},
   "source": [
    "## Ejercicio 2\n",
    "\n",
    "- Definir una estructura (`struct`) `Dual` que represente a los números duales; los nombres de los campos serán `fun` y `der`. Por sencillez, pueden considerar que los campos de `Dual` son del tipo `Float64`, aunque pueden *osar* y tratar de implementar el caso paramétrico `Dual{T <: Real}`, donde `T` es el tipo de *ambos* campos."
   ]
  },
  {
   "cell_type": "code",
   "execution_count": 1,
   "metadata": {},
   "outputs": [
    {
     "data": {
      "text/plain": [
       "Dual"
      ]
     },
     "execution_count": 1,
     "metadata": {},
     "output_type": "execute_result"
    }
   ],
   "source": [
    "\"\"\"\n",
    "Creamos nuestra propia estructura dual, la cual recibe dos argumentos parametrizados por el mismo tipo de dato.\n",
    "\"\"\"\n",
    "struct Dual{T<: Number}\n",
    "    fun::T\n",
    "    der::T\n",
    "end"
   ]
  },
  {
   "cell_type": "markdown",
   "metadata": {},
   "source": [
    "- Sobrecargar las operaciones de tal manera que las cuatro operaciones aritméticas que involucrena dos `Dual`-es, den el resultado que se espera."
   ]
  },
  {
   "cell_type": "code",
   "execution_count": 2,
   "metadata": {},
   "outputs": [],
   "source": [
    "import Base.+, Base.-, Base.*, Base./"
   ]
  },
  {
   "cell_type": "code",
   "execution_count": 3,
   "metadata": {},
   "outputs": [
    {
     "data": {
      "text/plain": [
       "Base.:+"
      ]
     },
     "execution_count": 3,
     "metadata": {},
     "output_type": "execute_result"
    }
   ],
   "source": [
    "\"\"\"\n",
    "Sobrecargamos la operación de suma (`+`) para dos números `Duales`. La operación que se realiza es la siguiente:\n",
    "\n",
    "Dual(x₁, x₂) + Dual(y₁,y₂) = Dual(x₁+y₁, x₂+y₂)\n",
    "\n",
    "# Ejemplos\n",
    "\n",
    "```julia-repl\n",
    "julia> Dual(1,3) + Dual(4, 5)\n",
    "Dual(5, 8)\n",
    "\n",
    "julia> Dual(8,4) + Dual(-2, 0)\n",
    "Dual(6, 4)\n",
    "```\n",
    "\"\"\"\n",
    "+(x::Dual, y::Dual) = Dual(x.fun + y.fun, x.der + y.der)"
   ]
  },
  {
   "cell_type": "code",
   "execution_count": 4,
   "metadata": {},
   "outputs": [
    {
     "data": {
      "text/plain": [
       "Base.:-"
      ]
     },
     "execution_count": 4,
     "metadata": {},
     "output_type": "execute_result"
    }
   ],
   "source": [
    "\"\"\"\n",
    "Sobrecargamos la operación de resta (`-`) para dos números `Duales`. La operación que se realiza es la siguiente:\n",
    "\n",
    "Dual(x₁, x₂) - Dual(y₁,y₂) = Dual(x₁-y₁, x₂-y₂)\n",
    "\n",
    "# Ejemplos\n",
    "\n",
    "```julia-repl\n",
    "julia> Dual(1,3) - Dual(4, 5)\n",
    "Dual(-3, -2)\n",
    "\n",
    "julia> Dual(4,5) - Dual(1, 3)\n",
    "Dual(3, 2)\n",
    "```\n",
    "\"\"\"\n",
    "-(x::Dual, y::Dual) = Dual(x.fun - y.fun, x.der - y.der)"
   ]
  },
  {
   "cell_type": "code",
   "execution_count": 5,
   "metadata": {},
   "outputs": [
    {
     "data": {
      "text/plain": [
       "Base.:*"
      ]
     },
     "execution_count": 5,
     "metadata": {},
     "output_type": "execute_result"
    }
   ],
   "source": [
    "\"\"\"\n",
    "Sobrecargamos la operación de resta (`-`) para dos números `Duales`. La operación que se realiza es la siguiente:\n",
    "\n",
    "Dual(x₁, x₂) * Dual(y₁,y₂) = Dual(x₁*y₁, x₁*y₂ + y₁*x₂)\n",
    "\n",
    "# Ejemplos\n",
    "\n",
    "```julia-repl\n",
    "julia> Dual(1,3) * Dual(4, 5)\n",
    "Dual(4, 17)\n",
    "\n",
    "julia> Dual(-2,5) * Dual(1, 3)\n",
    "Dual(-2, -1)\n",
    "```\n",
    "\"\"\"\n",
    "*(x::Dual, y::Dual) = Dual(x.fun * y.fun, x.fun * y.der + y.fun * x.der)"
   ]
  },
  {
   "cell_type": "code",
   "execution_count": 6,
   "metadata": {},
   "outputs": [
    {
     "data": {
      "text/plain": [
       "Base.:/"
      ]
     },
     "execution_count": 6,
     "metadata": {},
     "output_type": "execute_result"
    }
   ],
   "source": [
    "\"\"\"\n",
    "Sobrecargamos la operación de  (`*`) para dos números `Duales`. La operación que se realiza es la siguiente:\n",
    "\n",
    "Dual(x₁, x₂) / Dual(y₁,y₂) = Dual(x₁/y₁, (₁*x₂ - x₁*y₂)/ y₁²)\n",
    "\n",
    "# Ejemplos\n",
    "\n",
    "```julia-repl\n",
    "julia> Dual(1,3) / Dual(4, 5)\n",
    "Dual(0.25, 0.4375)\n",
    "\n",
    "julia> Dual(1,18) / Dual(2, 9)\n",
    "Dual(0.5, 6.75)\n",
    "```\n",
    "\"\"\"\n",
    "/(x::Dual, y::Dual) = Dual(x.fun / y.fun, (y.fun * x.der - x.fun * y.der)/y.fun^2)"
   ]
  },
  {
   "cell_type": "markdown",
   "metadata": {},
   "source": [
    "- Definan un método específico para crear duales (constructor externo), a partir de un\n",
    "sólo valor (en lugar de los dos requeridos), y que corresponderá a\n",
    "$\\overleftrightarrow{x_0} = (x_0, 0)$. ¿Es el *0* de esta definición, o sea, $x_0^\\prime=0$,\n",
    "compatible con la interpretación que dieron en el ejercicio anterior para la parte derivada?"
   ]
  },
  {
   "cell_type": "code",
   "execution_count": 7,
   "metadata": {},
   "outputs": [
    {
     "data": {
      "text/plain": [
       "Dual"
      ]
     },
     "execution_count": 7,
     "metadata": {},
     "output_type": "execute_result"
    }
   ],
   "source": [
    "\"\"\"\n",
    "Definimos un Dual con un sólo real, en donde la parte derivada se hace 0 automáticamente.\n",
    "\n",
    "# Ejemplos\n",
    "\n",
    "```julia-repl\n",
    "julia> Dual(3.)\n",
    "Dual(3.0, 0.0)\n",
    "```\n",
    "\"\"\"\n",
    "Dual(x::Real) = Dual(x,0.)"
   ]
  },
  {
   "cell_type": "markdown",
   "metadata": {},
   "source": [
    "<div class=\"alert alert-warning\">\n",
    "    Parece ser compatible en el sentido de que es como si estuviéramos tomando la derivada de una constante, la cuál sabemos que es 0.\n",
    "</div>"
   ]
  },
  {
   "cell_type": "markdown",
   "metadata": {},
   "source": [
    "- Extiendan los métodos que permitan sumar/restar y multiplicar/dividir un número (`::Real`) y\n",
    "un `::Dual`. (Recuerden que ciertas operaciones son conmutativas!).\n",
    "NOTA: Este ejercicio lo pueden hacer escribiendo todos los métodos, uno a uno. Otra\n",
    "opción es usar `promote` y `convert` para definir reglas de promoción y conversión;\n",
    "[la documentación](https://docs.julialang.org/en/v1/manual/conversion-and-promotion/)\n",
    "tiene más información, por si este camino les interesa."
   ]
  },
  {
   "cell_type": "code",
   "execution_count": 8,
   "metadata": {},
   "outputs": [],
   "source": [
    "import Base.promote"
   ]
  },
  {
   "cell_type": "code",
   "execution_count": 9,
   "metadata": {},
   "outputs": [
    {
     "data": {
      "text/plain": [
       "Base.promote"
      ]
     },
     "execution_count": 9,
     "metadata": {},
     "output_type": "execute_result"
    }
   ],
   "source": [
    "\"\"\"\n",
    "Definimos la promoción de un real a un Dual.\n",
    "\n",
    "# Ejemplos\n",
    "\n",
    "```julia-repl\n",
    "julia> promote(1, Dual(1.,3))\n",
    "(Dual(1,0), Dual(3.0, 0.0))\n",
    "```\n",
    "\"\"\"\n",
    "promote(a::Number, x::Dual) = (Dual(a), x)"
   ]
  },
  {
   "cell_type": "code",
   "execution_count": 10,
   "metadata": {},
   "outputs": [
    {
     "data": {
      "text/plain": [
       "Base.promote"
      ]
     },
     "execution_count": 10,
     "metadata": {},
     "output_type": "execute_result"
    }
   ],
   "source": [
    "\"\"\"\n",
    "Definimos la promoción de un real a un Dual.\n",
    "\n",
    "# Ejemplos\n",
    "\n",
    "```julia-repl\n",
    "julia> promote(Dual(1.,3), 1)\n",
    "(Dual(3.0, 0.0), Dual(1,0))\n",
    "```\n",
    "\"\"\"\n",
    "promote(x::Dual, a::Number) = (x, Dual(a))"
   ]
  },
  {
   "cell_type": "code",
   "execution_count": 11,
   "metadata": {},
   "outputs": [
    {
     "data": {
      "text/plain": [
       "/ (generic function with 140 methods)"
      ]
     },
     "execution_count": 11,
     "metadata": {},
     "output_type": "execute_result"
    }
   ],
   "source": [
    "+(x::Number, y::Dual) = +(promote(x,y)...)\n",
    "+(x::Dual, y::Number) = +(promote(x,y)...)\n",
    "\n",
    "-(x::Number, y::Dual) = -(promote(x,y)...)\n",
    "-(x::Dual, y::Number) = -(promote(x,y)...)\n",
    "\n",
    "*(x::Number, y::Dual) = *(promote(x,y)...)\n",
    "*(x::Dual, y::Number) = *(promote(x,y)...)\n",
    "\n",
    "/(x::Number, y::Dual) = /(promote(x,y)...)\n",
    "/(x::Dual, y::Number) = /(promote(x,y)...)"
   ]
  },
  {
   "cell_type": "markdown",
   "metadata": {},
   "source": [
    "- Definan las funciones `fun` y `der` que, al ser aplicadas a un `Dual` devuelvan la parte principal y la parte derivada del `Dual`."
   ]
  },
  {
   "cell_type": "code",
   "execution_count": 12,
   "metadata": {},
   "outputs": [
    {
     "data": {
      "text/plain": [
       "der"
      ]
     },
     "execution_count": 12,
     "metadata": {},
     "output_type": "execute_result"
    }
   ],
   "source": [
    "\"\"\"\n",
    "Función que al ser aplicada a un Dual nos devuelve su parte principal\n",
    "fun(x::Dual) = x.fun\n",
    "\"\"\"\n",
    "function fun(x::Dual)\n",
    "    x.fun\n",
    "end\n",
    "\n",
    "\n",
    "\"\"\"\n",
    "Función que al ser aplicada a un Dual nos devuelve su parte derivada\n",
    "\n",
    "der(x::Dual) = x.der\n",
    "\"\"\"\n",
    "function der(x::Dual)\n",
    "    x.der\n",
    "end"
   ]
  },
  {
   "cell_type": "markdown",
   "metadata": {},
   "source": [
    "- Incluyan varios casos (propuestos por ustedes mismos) donde se *compruebe* que lo que\n",
    "implementaron da el resultado que debería ser. Para esto, pueden usar la librería\n",
    "estándard [`Test`](https://docs.julialang.org/en/v1/stdlib/Test/) de Julia."
   ]
  },
  {
   "cell_type": "code",
   "execution_count": 13,
   "metadata": {},
   "outputs": [],
   "source": [
    "using Test"
   ]
  },
  {
   "cell_type": "code",
   "execution_count": 34,
   "metadata": {},
   "outputs": [
    {
     "data": {
      "text/plain": [
       "\u001b[32m\u001b[1mTest Passed\u001b[22m\u001b[39m"
      ]
     },
     "execution_count": 34,
     "metadata": {},
     "output_type": "execute_result"
    }
   ],
   "source": [
    "@test 3. + Dual(4., 8.) == Dual(3. + 4.,8.)\n",
    "@test 2. - Dual(3.,6.)  == Dual(2. - 3.,0. - 6.)\n",
    "@test Dual(3.,6.) - 2.  == Dual(3. - 2.,6.)\n",
    "@test Dual(-4.,3.) / 3. == Dual(-4. /3., (3. *3. - (-4.)*0.) / 3. ^ 2)\n",
    "@test 3. / Dual(-4.,3.) == Dual(3. /(-4.), (0. *(-4.) - 3. *3.)/(-4.)^2)\n",
    "@test der(Dual(1,6)) == Dual(1,6).der\n",
    "@test fun(Dual(1,6)) == Dual(1,6).fun"
   ]
  },
  {
   "cell_type": "markdown",
   "metadata": {},
   "source": [
    "## Ejercicio 3\n",
    "\n",
    "Definan una nueva función `vardual(x_0)` cuyo resultado sea un `Dual` cuya parte\n",
    "principal es `x_0` y cuya parte derivada sea tal que `xd = vardual(x_0)` *represente*\n",
    "a la variable independiente $x$ (en $x_0$). La idea es que debe representar\n",
    "la parte derivada del dual `xd` que regresa `xd = vardual(x_0)`. Con esta función\n",
    "evalúen `g(xd)` donde\n",
    "$$\n",
    "g(x) = \\frac{3x^2-8x+1}{7x^3-1}.\n",
    "$$"
   ]
  },
  {
   "cell_type": "code",
   "execution_count": 35,
   "metadata": {},
   "outputs": [
    {
     "data": {
      "text/plain": [
       "vardual"
      ]
     },
     "execution_count": 35,
     "metadata": {},
     "output_type": "execute_result"
    }
   ],
   "source": [
    "\"\"\"\n",
    "Definimos la función `vardual`, la cual nos sirve para crear valores de `x` como variables independientes.\n",
    "\"\"\"\n",
    "vardual(x₀::Float64) = Dual(x₀, 1.)"
   ]
  },
  {
   "cell_type": "code",
   "execution_count": 36,
   "metadata": {},
   "outputs": [
    {
     "data": {
      "text/plain": [
       "Dual{Float64}(5.3, 1.0)"
      ]
     },
     "execution_count": 36,
     "metadata": {},
     "output_type": "execute_result"
    }
   ],
   "source": [
    "x_0 = 5.3\n",
    "xd = vardual(x_0)"
   ]
  },
  {
   "cell_type": "code",
   "execution_count": 51,
   "metadata": {},
   "outputs": [
    {
     "data": {
      "text/plain": [
       "g (generic function with 1 method)"
      ]
     },
     "execution_count": 51,
     "metadata": {},
     "output_type": "execute_result"
    }
   ],
   "source": [
    "g(x) = (3.0x*x - 8.0x + 1.)/(7.0x*x*x - 1.)"
   ]
  },
  {
   "cell_type": "code",
   "execution_count": 52,
   "metadata": {},
   "outputs": [
    {
     "data": {
      "text/plain": [
       "g′ (generic function with 1 method)"
      ]
     },
     "execution_count": 52,
     "metadata": {},
     "output_type": "execute_result"
    }
   ],
   "source": [
    "# Definimos la derivada a mano para poder evaluarla en el test\n",
    "g′(x) = ((7x^3 - 1)*(6x - 8) - (3x^2 - 8x + 1)*(21x^2))/(7x^3 -1)^2"
   ]
  },
  {
   "cell_type": "code",
   "execution_count": 54,
   "metadata": {},
   "outputs": [
    {
     "data": {
      "text/plain": [
       "Dual{Float64}(0.041176058144013435, -0.0004700092289041968)"
      ]
     },
     "execution_count": 54,
     "metadata": {},
     "output_type": "execute_result"
    }
   ],
   "source": [
    "g(xd)"
   ]
  },
  {
   "cell_type": "code",
   "execution_count": 55,
   "metadata": {},
   "outputs": [
    {
     "data": {
      "text/plain": [
       "\u001b[32m\u001b[1mTest Passed\u001b[22m\u001b[39m"
      ]
     },
     "execution_count": 55,
     "metadata": {},
     "output_type": "execute_result"
    }
   ],
   "source": [
    "@test g(xd) == Dual(g(x_0), g′(x_0))"
   ]
  },
  {
   "cell_type": "markdown",
   "metadata": {},
   "source": [
    "## Ejercicio 4\n",
    "\n",
    "- A partir de la interpretación que han hecho para la parte derivada (último inciso del Ejercicio 1), y *generalizando* esa interpretación de qué representa cada campo y en particular el segundo de `Dual`, *extiendan* las funciones `sin(a::Dual)`, `cos(a::Dual)`, `tan(a::Dual)`, `^(a::Dual, n::Int)`, `sqrt(a::Dual)`, `exp(a::Dual)` y `log(a::Dual)`.\n"
   ]
  },
  {
   "cell_type": "code",
   "execution_count": 56,
   "metadata": {},
   "outputs": [],
   "source": [
    "import Base.sin, Base.cos, Base.tan, Base.^, Base.sqrt, Base.exp, Base.log"
   ]
  },
  {
   "cell_type": "code",
   "execution_count": 57,
   "metadata": {},
   "outputs": [
    {
     "data": {
      "text/plain": [
       "Base.sin"
      ]
     },
     "execution_count": 57,
     "metadata": {},
     "output_type": "execute_result"
    }
   ],
   "source": [
    "\"\"\"\n",
    "Sobrecargamos la operación de  seno (`sin`) para un número `Dual`. La operación que se realiza es la siguiente:\n",
    "\n",
    "sin(Dual(x₁, x₂)) = Dual(cos(x₁), -x₂*sin(x₁))\n",
    "\n",
    "# Ejemplos\n",
    "\n",
    "```julia-repl\n",
    "julia> sin(Dual(3.1416, 3.1416))\n",
    "Dual(-7.346410206643587e-6, -3.141599999915224)\n",
    "\n",
    "julia> sin(Dual(3.1416, 3.1416/2))\n",
    "Dual(-7.346410206643587e-6, -1.570799999957612)\n",
    "```\n",
    "\"\"\"\n",
    "sin(x::Dual) = Dual(sin(x.fun), x.der*cos(x.fun))"
   ]
  },
  {
   "cell_type": "code",
   "execution_count": 24,
   "metadata": {},
   "outputs": [
    {
     "data": {
      "text/plain": [
       "log (generic function with 27 methods)"
      ]
     },
     "execution_count": 24,
     "metadata": {},
     "output_type": "execute_result"
    }
   ],
   "source": [
    "\n",
    "cos(x::Dual) = Dual(cos(x.fun), -x.der*sin(x.fun))\n",
    "tan(x::Dual) = sin(x)/cos(x)\n",
    "^(x::Dual, n::Int) = Dual(x.fun^n, n*x.fun^(n-1)*x.der)\n",
    "sqrt(x::Dual) = Dual(sqrt(x.fun), x.der/(2*sqrt(x.fun)))\n",
    "exp(x::Dual) = Dual(exp(x.fun), x.der*exp(x.fun))\n",
    "log(x::Dual) = Dual(log(x.fun), x.der/x.fun)"
   ]
  },
  {
   "cell_type": "markdown",
   "metadata": {},
   "source": [
    "- Al igual que antes, construyan algún conjunto de pruebas que muestre, de manera\n",
    "sencilla, que lo que hicieron da lo que uno esperaría obtener."
   ]
  },
  {
   "cell_type": "code",
   "execution_count": 25,
   "metadata": {},
   "outputs": [
    {
     "data": {
      "text/plain": [
       "isapprox (generic function with 11 methods)"
      ]
     },
     "execution_count": 25,
     "metadata": {},
     "output_type": "execute_result"
    }
   ],
   "source": [
    "import Base.≈\n",
    "≈(x::Dual, y::Dual, atol::Real=0.001) = ≈(x.fun, y.fun; atol) && ≈(x.der, y.der; atol)"
   ]
  },
  {
   "cell_type": "code",
   "execution_count": 26,
   "metadata": {},
   "outputs": [
    {
     "data": {
      "text/plain": [
       "\u001b[32m\u001b[1mTest Passed\u001b[22m\u001b[39m"
      ]
     },
     "execution_count": 26,
     "metadata": {},
     "output_type": "execute_result"
    }
   ],
   "source": [
    "@test ≈(sin(Dual(π/2, 1.)), Dual(1., 0.))\n",
    "@test ≈(cos(Dual(π/2, 1.)), Dual(0., -1.))\n",
    "@test ≈(tan(Dual(π/2, 1.)), sin(Dual(π/2, 1.))/cos(Dual(π/2, 1.)))\n",
    "@test Dual(3, 5)^4 == Dual(3^4, 4*(3^3)*5)\n",
    "@test sqrt(Dual(9, 2)) == Dual(sqrt(9), 2/(2*sqrt(9)))\n",
    "@test exp(Dual(10, 22)) == Dual(exp(10), 22*exp(10))\n",
    "@test log(Dual(10, 100)) == Dual(log(10), 100/10)"
   ]
  },
  {
   "cell_type": "markdown",
   "metadata": {},
   "source": [
    "---\n",
    "\n",
    "*This notebook was generated using [Literate.jl](https://github.com/fredrikekre/Literate.jl).*"
   ]
  }
 ],
 "metadata": {
  "kernelspec": {
   "display_name": "Julia 1.8.4",
   "language": "julia",
   "name": "julia-1.8"
  },
  "language_info": {
   "file_extension": ".jl",
   "mimetype": "application/julia",
   "name": "julia",
   "version": "1.8.4"
  }
 },
 "nbformat": 4,
 "nbformat_minor": 3
}
