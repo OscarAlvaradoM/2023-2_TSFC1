{
 "cells": [
  {
   "cell_type": "markdown",
   "metadata": {},
   "source": [
    "# Tarea 1: Números duales"
   ]
  },
  {
   "cell_type": "markdown",
   "metadata": {},
   "source": [
    "> Fecha de aceptación:"
   ]
  },
  {
   "cell_type": "markdown",
   "metadata": {},
   "source": [
    "Antes de describir los *números duales* recordaremos primero algunas propiedades de los\n",
    "números complejos.\n",
    "Los números complejos los podemos entender como una *pareja ordenada* $z=(x, y)$ que\n",
    "algebraicamente escribimos $z = x +i y$, donde $x,y\\in\\mathbb R$, con la propiedad de\n",
    "que el *número* $i$ satisface $i^2 = -1$. Decimos que $x$ es la *parte real* de $z$,\n",
    "y que $y$ es su *parte imaginaria*.\n",
    "Con estas definiciones, podemos extender las operaciones aritméticas al igual que las\n",
    "funciones elementales de manera sencilla, simplemente explotando el álgebra y además\n",
    "$i^2=-1$."
   ]
  },
  {
   "cell_type": "markdown",
   "metadata": {},
   "source": [
    "De manera similar, uno puede definir al *par ordenado*\n",
    "$\\overleftrightarrow{x} = (x, x^\\prime) = x + \\epsilon x^\\prime$, con\n",
    "$x, x^\\prime \\in \\mathbb R$, y donde el *número* $\\epsilon$ lo definimos con la propiedad\n",
    "$\\epsilon^2=0$. Es fácil pues convencerse que estas estructuras, que llamaremos\n",
    "*números duales*, cumplen:\n",
    "\n",
    "\\begin{eqnarray}\n",
    "(x + \\epsilon x^\\prime) \\pm (y + \\epsilon y^\\prime) & = & (x\\pm y) + \\epsilon (x^\\prime\\pm y^\\prime),\\\\\n",
    "(x + \\epsilon x^\\prime) \\cdot (y + \\epsilon y^\\prime) & = & (x\\cdot y) + \\epsilon (xy^\\prime+y x^\\prime).\n",
    "\\end{eqnarray}\n",
    "\n",
    "Llamaremos a $x$ la *parte principal* y a $x^\\prime$ la *parte derivada* de $\\overleftrightarrow{x}$."
   ]
  },
  {
   "cell_type": "markdown",
   "metadata": {},
   "source": [
    "## Ejercicio 1\n",
    "\n",
    "- A partir de $\\overleftrightarrow{z} \\cdot \\overleftrightarrow{y} = \\overleftrightarrow{x}$,\n",
    "y usando la definición del producto entre duales, obtener la expresión para\n",
    "$\\overleftrightarrow{z} = \\overleftrightarrow{x} / \\overleftrightarrow{y}$.\n",
    "Es decir, obtener\n",
    "qué son $z$ y $z^\\prime$ en términos de las componentes de $\\overleftrightarrow{x}$ y\n",
    "$\\overleftrightarrow{y}$."
   ]
  },
  {
   "cell_type": "markdown",
   "metadata": {},
   "source": [
    "<div class=\"alert alert-warning\">\n",
    "Al desarrollar la ecuación $\\overleftrightarrow{z} \\cdot \\overleftrightarrow{y} = \\overleftrightarrow{x}$ tenemos los siguiente:\n",
    "$$\n",
    "\\overleftrightarrow{z} \\cdot \\overleftrightarrow{y} = zy + \\epsilon (zy^\\prime + yz^\\prime ) = x + \\epsilon x^\\prime\n",
    "$$\n",
    "De donde podemos deducir que \n",
    "\\begin{eqnarray}\n",
    "zy & = & x \\\\\n",
    "zy^\\prime + yz^\\prime & = & x^\\prime\n",
    "\\end{eqnarray}\n",
    "\n",
    "Y así, al sustituir y despejar $z$ y $z^\\prime$ tenemos que\n",
    "\n",
    "\\begin{eqnarray}\n",
    "z & = & \\dfrac{x}{y}\\\\\n",
    "z^\\prime & = & \\dfrac{x^\\prime y - xy^\\prime}{y^{2}}\n",
    "\\end{eqnarray}\n",
    "</div>"
   ]
  },
  {
   "cell_type": "markdown",
   "metadata": {},
   "source": [
    "- De la expresión obtenida (y de las fórmulas anteriores), ¿qué podemos decir\n",
    "(concluir o interpretar) sobre qué representa de $z^\\prime$?"
   ]
  },
  {
   "cell_type": "markdown",
   "metadata": {},
   "source": [
    "<div class=\"alert alert-warning\">\n",
    "La forma de $z^\\prime$ recuerda mucho a la derivada de una división pero en lugar de que estemos dividiendo por $\\overleftrightarrow{y}^{2} = y^{2} + 2\\epsilon yy^\\prime$ lo hacemos por únicamente la parte principal $y^{2}$.\n",
    "</div>"
   ]
  },
  {
   "cell_type": "markdown",
   "metadata": {},
   "source": [
    "## Ejercicio 2\n",
    "\n",
    "- Definir una estructura (`struct`) `Dual` que represente a los números duales;\n",
    "los nombres de los campos serán `fun` y `der`.\n",
    "Por sencillez, pueden considerar que los campos de `Dual` son del tipo `Float64`, aunque\n",
    "pueden *osar* y tratar de implementar el caso paramétrico `Dual{T <: Real}`,\n",
    "donde `T` es el tipo de *ambos* campos.\n",
    "\n",
    "- Sobrecargar las operaciones de tal manera que las cuatro operaciones aritméticas que\n",
    "involucrena dos `Dual`-es, den el resultado que se espera.\n",
    "\n",
    "- Definan un método específico para crear duales (constructor externo), a partir de un\n",
    "sólo valor (en lugar de los dos requeridos), y que corresponderá a\n",
    "$\\overleftrightarrow{x_0} = (x_0, 0)$. ¿Es el *0* de esta definición, o sea, $x_0^\\prime=0$,\n",
    "compatible con la interpretación que dieron en el ejercicio anterior para la parte derivada?\n",
    "\n",
    "- Extiendan los métodos que permitan sumar/restar y multiplicar/dividir un número (`::Real`) y\n",
    "un `::Dual`. (Recuerden que ciertas operaciones son conmutativas!).\n",
    "NOTA: Este ejercicio lo pueden hacer escribiendo todos los métodos, uno a uno. Otra\n",
    "opción es usar `promote` y `convert` para definir reglas de promoción y conversión;\n",
    "[la documentación](https://docs.julialang.org/en/v1/manual/conversion-and-promotion/)\n",
    "tiene más información, por si este camino les interesa.\n",
    "\n",
    "- Definan las funciones `fun` y `der` que, al ser aplicadas a un `Dual` devuelvan\n",
    "la parte principal y la parte derivada del `Dual`.\n",
    "\n",
    "- Incluyan varios casos (propuestos por ustedes mismos) donde se *compruebe* que lo que\n",
    "implementaron da el resultado que debería ser. Para esto, pueden usar la librería\n",
    "estándard [`Test`](https://docs.julialang.org/en/v1/stdlib/Test/) de Julia."
   ]
  },
  {
   "cell_type": "code",
   "execution_count": 2,
   "metadata": {},
   "outputs": [],
   "source": [
    "#Respuesta"
   ]
  },
  {
   "cell_type": "markdown",
   "metadata": {},
   "source": [
    "## Ejercicio 3\n",
    "\n",
    "Definan una nueva función `vardual(x_0)` cuyo resultado sea un `Dual` cuya parte\n",
    "principal es `x_0` y cuya parte derivada sea tal que `xd = vardual(x_0)` *represente*\n",
    "a la variable independiente $x$ (en $x_0$). La idea es que debe representar\n",
    "la parte derivada del dual `xd` que regresa `xd = vardual(x_0)`. Con esta función\n",
    "evalúen `g(xd)` donde\n",
    "$$\n",
    "g(x) = \\frac{3x^2-8x+1}{7x^3-1}.\n",
    "$$"
   ]
  },
  {
   "cell_type": "code",
   "execution_count": 3,
   "metadata": {},
   "outputs": [],
   "source": [
    "#Respuesta"
   ]
  },
  {
   "cell_type": "markdown",
   "metadata": {},
   "source": [
    "## Ejercicio 4\n",
    "\n",
    "- A partir de la interpretación que han hecho para la parte derivada (último inciso\n",
    "del Ejercicio 1), y *generalizando* esa interpretación de qué representa cada campo\n",
    "y en particular el segundo de `Dual`, *extiendan* las funciones `sin(a::Dual)`,\n",
    "`cos(a::Dual)`, `tan(a::Dual)`, `^(a::Dual, n::Int)`, `sqrt(a::Dual)`, `exp(a::Dual)`\n",
    "y `log(a::Dual)`.\n",
    "\n",
    "- Al igual que antes, construyan algún conjunto de pruebas que muestre, de manera\n",
    "sencilla, que lo que hicieron da lo que uno esperaría obtener."
   ]
  },
  {
   "cell_type": "code",
   "execution_count": 4,
   "metadata": {},
   "outputs": [],
   "source": [
    "#Respuesta"
   ]
  },
  {
   "cell_type": "markdown",
   "metadata": {},
   "source": [
    "---\n",
    "\n",
    "*This notebook was generated using [Literate.jl](https://github.com/fredrikekre/Literate.jl).*"
   ]
  }
 ],
 "metadata": {
  "kernelspec": {
   "display_name": "Julia 1.8.5",
   "language": "julia",
   "name": "julia-1.8"
  },
  "language_info": {
   "file_extension": ".jl",
   "mimetype": "application/julia",
   "name": "julia",
   "version": "1.8.5"
  }
 },
 "nbformat": 4,
 "nbformat_minor": 3
}
